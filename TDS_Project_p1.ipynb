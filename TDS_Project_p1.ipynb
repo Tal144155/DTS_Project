{
 "cells": [
  {
   "cell_type": "markdown",
   "metadata": {
    "colab_type": "text",
    "id": "view-in-github"
   },
   "source": [
    "<a href=\"https://colab.research.google.com/github/Tal144155/DTS_Project/blob/main/TDS_Project_p1.ipynb\" target=\"_parent\"><img src=\"https://colab.research.google.com/assets/colab-badge.svg\" alt=\"Open In Colab\"/></a>"
   ]
  },
  {
   "cell_type": "markdown",
   "metadata": {
    "id": "3o9quY7wOSoY"
   },
   "source": [
    "# Tabular Data Science - Part #1\n",
    "### Group Members: \n",
    "* Tal Ariel Ziv\n",
    "* Arnon Lutsky"
   ]
  },
  {
   "cell_type": "markdown",
   "metadata": {
    "id": "EwiIVc94PnnJ"
   },
   "source": [
    "#### Introduction\n",
    "In this project, we aim to explore the fascinating intersection of movies and data science by building a predictive model for box office revenue. Using a dataset containing various attributes of movies, such as genre, cast, budget, runtime, release date, and more, we will analyze patterns and trends to determine what factors contribute to a film's financial success.\n"
   ]
  },
  {
   "cell_type": "markdown",
   "metadata": {},
   "source": [
    "### Dataset Selection:\n",
    "\n",
    "#### **Overview of the Movies Dataset**\n",
    "We chose The Movies Dataset because it is both fascinating and rich in features, making it ideal for exploring the dynamics of the movie industry. Predicting movie revenue based on details like budget, genres, cast, and crew is an engaging real-world challenge that combines creativity with analytical problem-solving.\n",
    "\n",
    "<font size=4px> **About the Dataset:**</font>\n",
    "* The Dataset contains MetaData of about 45,000 movies.\n",
    "* The data also contains a table with the crew and cas members (names, gender, etc).\n",
    "* There are extra 5 tables, including: links, rating (reviews from viewers), and keywords.\n",
    "\n",
    "**Movies MetaData set:**\n",
    "* Number of Records: 45,467.\n",
    "* number of Features: 24 (not all relevant, will be explain later).\n",
    "* Features names and types:<br>\n",
    "    (i) <u>Numeric:</u> Adults (yes/no), Belongs_To_Collenction (yes/no), Budget, Original_Language (en/other), Popularity, Revenue, Runtime, Release_Date, Vote_Avarage, Vote_Count.<br>\n",
    "    (ii) <u>Categorical:</u> Genres, Production_Companys, Production_Countries, Spoken_Languages.<br>\n",
    "    (iii) <u>Other:</u> Title, Overview.<br>\n",
    "\n",
    "**Credits set:**\n",
    "* Number of Records: 45,505.\n",
    "* number of Features: 3.\n",
    "* Features names and types:<br>\n",
    "    (i) Crew Members: Contains information about the crew members, their job, names, gender, etc.<br>\n",
    "    (ii) Cast Members: Contians information about the cast, actross, their role in the movie and more.<br>\n",
    "    <br>\n",
    "Both of those Features can be numeric (for example, counting the number of crew and cast members), but they can also be used to gather more inforamtion about the movie (if a famous actress plays in the movie).\n",
    "\n",
    "\n",
    "\n",
    "##### **Reference**\n",
    "> **Dataset**: Press on this [link](https://www.kaggle.com/datasets/rounakbanik/the-movies-dataset) to view the data set in Kaggle.\n"
   ]
  },
  {
   "cell_type": "markdown",
   "metadata": {},
   "source": [
    "Now, lets start analyzing the data, and solve some problems that will arise."
   ]
  },
  {
   "cell_type": "markdown",
   "metadata": {},
   "source": [
    "### 0. Imports"
   ]
  },
  {
   "cell_type": "code",
   "execution_count": 203,
   "metadata": {
    "id": "_lTDiV-NNiXy"
   },
   "outputs": [],
   "source": [
    "#data processing\n",
    "import pandas as pd\n",
    "import numpy as np\n",
    "\n",
    "#data visualizations\n",
    "import seaborn as sns\n",
    "import matplotlib.pyplot as plt\n",
    "%matplotlib inline\n",
    "\n",
    "#Machine learning library\n",
    "import sklearn\n",
    "\n",
    "import ast\n",
    "\n",
    "import warnings\n",
    "warnings.filterwarnings(\"ignore\")"
   ]
  },
  {
   "cell_type": "markdown",
   "metadata": {},
   "source": [
    "### 1. Data Overview\n",
    "Now, lets upload the data end start exploring it."
   ]
  },
  {
   "cell_type": "code",
   "execution_count": 204,
   "metadata": {},
   "outputs": [],
   "source": [
    "data_movies = pd.read_csv(\"Data/movies_metadata.csv\",index_col='id')\n",
    "data_credits = pd.read_csv(\"Data/credits.csv\",index_col='id')"
   ]
  },
  {
   "cell_type": "code",
   "execution_count": 205,
   "metadata": {},
   "outputs": [
    {
     "data": {
      "text/html": [
       "<div>\n",
       "<style scoped>\n",
       "    .dataframe tbody tr th:only-of-type {\n",
       "        vertical-align: middle;\n",
       "    }\n",
       "\n",
       "    .dataframe tbody tr th {\n",
       "        vertical-align: top;\n",
       "    }\n",
       "\n",
       "    .dataframe thead th {\n",
       "        text-align: right;\n",
       "    }\n",
       "</style>\n",
       "<table border=\"1\" class=\"dataframe\">\n",
       "  <thead>\n",
       "    <tr style=\"text-align: right;\">\n",
       "      <th></th>\n",
       "      <th>adult</th>\n",
       "      <th>belongs_to_collection</th>\n",
       "      <th>genres</th>\n",
       "      <th>original_language</th>\n",
       "      <th>original_title</th>\n",
       "      <th>budget</th>\n",
       "      <th>overview</th>\n",
       "      <th>popularity</th>\n",
       "      <th>production_companies</th>\n",
       "      <th>production_countries</th>\n",
       "      <th>release_date</th>\n",
       "      <th>runtime</th>\n",
       "      <th>spoken_languages</th>\n",
       "      <th>tagline</th>\n",
       "      <th>vote_average</th>\n",
       "      <th>vote_count</th>\n",
       "      <th>revenue</th>\n",
       "    </tr>\n",
       "    <tr>\n",
       "      <th>id</th>\n",
       "      <th></th>\n",
       "      <th></th>\n",
       "      <th></th>\n",
       "      <th></th>\n",
       "      <th></th>\n",
       "      <th></th>\n",
       "      <th></th>\n",
       "      <th></th>\n",
       "      <th></th>\n",
       "      <th></th>\n",
       "      <th></th>\n",
       "      <th></th>\n",
       "      <th></th>\n",
       "      <th></th>\n",
       "      <th></th>\n",
       "      <th></th>\n",
       "      <th></th>\n",
       "    </tr>\n",
       "  </thead>\n",
       "  <tbody>\n",
       "    <tr>\n",
       "      <th>862</th>\n",
       "      <td>False</td>\n",
       "      <td>{'id': 10194, 'name': 'Toy Story Collection', ...</td>\n",
       "      <td>[{'id': 16, 'name': 'Animation'}, {'id': 35, '...</td>\n",
       "      <td>en</td>\n",
       "      <td>Toy Story</td>\n",
       "      <td>30000000</td>\n",
       "      <td>Led by Woody, Andy's toys live happily in his ...</td>\n",
       "      <td>21.946943</td>\n",
       "      <td>[{'name': 'Pixar Animation Studios', 'id': 3}]</td>\n",
       "      <td>[{'iso_3166_1': 'US', 'name': 'United States o...</td>\n",
       "      <td>1995-10-30</td>\n",
       "      <td>81.0</td>\n",
       "      <td>[{'iso_639_1': 'en', 'name': 'English'}]</td>\n",
       "      <td>NaN</td>\n",
       "      <td>7.7</td>\n",
       "      <td>5415.0</td>\n",
       "      <td>373554033.0</td>\n",
       "    </tr>\n",
       "    <tr>\n",
       "      <th>8844</th>\n",
       "      <td>False</td>\n",
       "      <td>NaN</td>\n",
       "      <td>[{'id': 12, 'name': 'Adventure'}, {'id': 14, '...</td>\n",
       "      <td>en</td>\n",
       "      <td>Jumanji</td>\n",
       "      <td>65000000</td>\n",
       "      <td>When siblings Judy and Peter discover an encha...</td>\n",
       "      <td>17.015539</td>\n",
       "      <td>[{'name': 'TriStar Pictures', 'id': 559}, {'na...</td>\n",
       "      <td>[{'iso_3166_1': 'US', 'name': 'United States o...</td>\n",
       "      <td>1995-12-15</td>\n",
       "      <td>104.0</td>\n",
       "      <td>[{'iso_639_1': 'en', 'name': 'English'}, {'iso...</td>\n",
       "      <td>Roll the dice and unleash the excitement!</td>\n",
       "      <td>6.9</td>\n",
       "      <td>2413.0</td>\n",
       "      <td>262797249.0</td>\n",
       "    </tr>\n",
       "    <tr>\n",
       "      <th>15602</th>\n",
       "      <td>False</td>\n",
       "      <td>{'id': 119050, 'name': 'Grumpy Old Men Collect...</td>\n",
       "      <td>[{'id': 10749, 'name': 'Romance'}, {'id': 35, ...</td>\n",
       "      <td>en</td>\n",
       "      <td>Grumpier Old Men</td>\n",
       "      <td>0</td>\n",
       "      <td>A family wedding reignites the ancient feud be...</td>\n",
       "      <td>11.7129</td>\n",
       "      <td>[{'name': 'Warner Bros.', 'id': 6194}, {'name'...</td>\n",
       "      <td>[{'iso_3166_1': 'US', 'name': 'United States o...</td>\n",
       "      <td>1995-12-22</td>\n",
       "      <td>101.0</td>\n",
       "      <td>[{'iso_639_1': 'en', 'name': 'English'}]</td>\n",
       "      <td>Still Yelling. Still Fighting. Still Ready for...</td>\n",
       "      <td>6.5</td>\n",
       "      <td>92.0</td>\n",
       "      <td>0.0</td>\n",
       "    </tr>\n",
       "    <tr>\n",
       "      <th>31357</th>\n",
       "      <td>False</td>\n",
       "      <td>NaN</td>\n",
       "      <td>[{'id': 35, 'name': 'Comedy'}, {'id': 18, 'nam...</td>\n",
       "      <td>en</td>\n",
       "      <td>Waiting to Exhale</td>\n",
       "      <td>16000000</td>\n",
       "      <td>Cheated on, mistreated and stepped on, the wom...</td>\n",
       "      <td>3.859495</td>\n",
       "      <td>[{'name': 'Twentieth Century Fox Film Corporat...</td>\n",
       "      <td>[{'iso_3166_1': 'US', 'name': 'United States o...</td>\n",
       "      <td>1995-12-22</td>\n",
       "      <td>127.0</td>\n",
       "      <td>[{'iso_639_1': 'en', 'name': 'English'}]</td>\n",
       "      <td>Friends are the people who let you be yourself...</td>\n",
       "      <td>6.1</td>\n",
       "      <td>34.0</td>\n",
       "      <td>81452156.0</td>\n",
       "    </tr>\n",
       "    <tr>\n",
       "      <th>11862</th>\n",
       "      <td>False</td>\n",
       "      <td>{'id': 96871, 'name': 'Father of the Bride Col...</td>\n",
       "      <td>[{'id': 35, 'name': 'Comedy'}]</td>\n",
       "      <td>en</td>\n",
       "      <td>Father of the Bride Part II</td>\n",
       "      <td>0</td>\n",
       "      <td>Just when George Banks has recovered from his ...</td>\n",
       "      <td>8.387519</td>\n",
       "      <td>[{'name': 'Sandollar Productions', 'id': 5842}...</td>\n",
       "      <td>[{'iso_3166_1': 'US', 'name': 'United States o...</td>\n",
       "      <td>1995-02-10</td>\n",
       "      <td>106.0</td>\n",
       "      <td>[{'iso_639_1': 'en', 'name': 'English'}]</td>\n",
       "      <td>Just When His World Is Back To Normal... He's ...</td>\n",
       "      <td>5.7</td>\n",
       "      <td>173.0</td>\n",
       "      <td>76578911.0</td>\n",
       "    </tr>\n",
       "  </tbody>\n",
       "</table>\n",
       "</div>"
      ],
      "text/plain": [
       "       adult                              belongs_to_collection  \\\n",
       "id                                                                \n",
       "862    False  {'id': 10194, 'name': 'Toy Story Collection', ...   \n",
       "8844   False                                                NaN   \n",
       "15602  False  {'id': 119050, 'name': 'Grumpy Old Men Collect...   \n",
       "31357  False                                                NaN   \n",
       "11862  False  {'id': 96871, 'name': 'Father of the Bride Col...   \n",
       "\n",
       "                                                  genres original_language  \\\n",
       "id                                                                           \n",
       "862    [{'id': 16, 'name': 'Animation'}, {'id': 35, '...                en   \n",
       "8844   [{'id': 12, 'name': 'Adventure'}, {'id': 14, '...                en   \n",
       "15602  [{'id': 10749, 'name': 'Romance'}, {'id': 35, ...                en   \n",
       "31357  [{'id': 35, 'name': 'Comedy'}, {'id': 18, 'nam...                en   \n",
       "11862                     [{'id': 35, 'name': 'Comedy'}]                en   \n",
       "\n",
       "                    original_title    budget  \\\n",
       "id                                             \n",
       "862                      Toy Story  30000000   \n",
       "8844                       Jumanji  65000000   \n",
       "15602             Grumpier Old Men         0   \n",
       "31357            Waiting to Exhale  16000000   \n",
       "11862  Father of the Bride Part II         0   \n",
       "\n",
       "                                                overview popularity  \\\n",
       "id                                                                    \n",
       "862    Led by Woody, Andy's toys live happily in his ...  21.946943   \n",
       "8844   When siblings Judy and Peter discover an encha...  17.015539   \n",
       "15602  A family wedding reignites the ancient feud be...    11.7129   \n",
       "31357  Cheated on, mistreated and stepped on, the wom...   3.859495   \n",
       "11862  Just when George Banks has recovered from his ...   8.387519   \n",
       "\n",
       "                                    production_companies  \\\n",
       "id                                                         \n",
       "862       [{'name': 'Pixar Animation Studios', 'id': 3}]   \n",
       "8844   [{'name': 'TriStar Pictures', 'id': 559}, {'na...   \n",
       "15602  [{'name': 'Warner Bros.', 'id': 6194}, {'name'...   \n",
       "31357  [{'name': 'Twentieth Century Fox Film Corporat...   \n",
       "11862  [{'name': 'Sandollar Productions', 'id': 5842}...   \n",
       "\n",
       "                                    production_countries release_date  \\\n",
       "id                                                                      \n",
       "862    [{'iso_3166_1': 'US', 'name': 'United States o...   1995-10-30   \n",
       "8844   [{'iso_3166_1': 'US', 'name': 'United States o...   1995-12-15   \n",
       "15602  [{'iso_3166_1': 'US', 'name': 'United States o...   1995-12-22   \n",
       "31357  [{'iso_3166_1': 'US', 'name': 'United States o...   1995-12-22   \n",
       "11862  [{'iso_3166_1': 'US', 'name': 'United States o...   1995-02-10   \n",
       "\n",
       "       runtime                                   spoken_languages  \\\n",
       "id                                                                  \n",
       "862       81.0           [{'iso_639_1': 'en', 'name': 'English'}]   \n",
       "8844     104.0  [{'iso_639_1': 'en', 'name': 'English'}, {'iso...   \n",
       "15602    101.0           [{'iso_639_1': 'en', 'name': 'English'}]   \n",
       "31357    127.0           [{'iso_639_1': 'en', 'name': 'English'}]   \n",
       "11862    106.0           [{'iso_639_1': 'en', 'name': 'English'}]   \n",
       "\n",
       "                                                 tagline  vote_average  \\\n",
       "id                                                                       \n",
       "862                                                  NaN           7.7   \n",
       "8844           Roll the dice and unleash the excitement!           6.9   \n",
       "15602  Still Yelling. Still Fighting. Still Ready for...           6.5   \n",
       "31357  Friends are the people who let you be yourself...           6.1   \n",
       "11862  Just When His World Is Back To Normal... He's ...           5.7   \n",
       "\n",
       "       vote_count      revenue  \n",
       "id                              \n",
       "862        5415.0  373554033.0  \n",
       "8844       2413.0  262797249.0  \n",
       "15602        92.0          0.0  \n",
       "31357        34.0   81452156.0  \n",
       "11862       173.0   76578911.0  "
      ]
     },
     "execution_count": 205,
     "metadata": {},
     "output_type": "execute_result"
    }
   ],
   "source": [
    "cols = [\"adult\", \"belongs_to_collection\", \"genres\",\"original_language\", \"original_title\", \"budget\",\n",
    "        \"overview\", \"popularity\", \"production_companies\", \"production_countries\", \"release_date\", \"runtime\",\n",
    "        \"spoken_languages\", \"tagline\", \"vote_average\", \"vote_count\", \"revenue\"]\n",
    "data_movies = data_movies[cols]\n",
    "data_movies.head()"
   ]
  },
  {
   "cell_type": "markdown",
   "metadata": {},
   "source": [
    "As you might see, the data is a bit messy, lots of texts and arrays (containing json). also, there are parts with Null values, but also boxes with the value zero (for example, some of the movies don't have budget or box office revenue). We will fix that later.\n",
    "\n",
    "For now, lets look at the Credits table, what information does it have."
   ]
  },
  {
   "cell_type": "code",
   "execution_count": 206,
   "metadata": {},
   "outputs": [
    {
     "data": {
      "text/html": [
       "<div>\n",
       "<style scoped>\n",
       "    .dataframe tbody tr th:only-of-type {\n",
       "        vertical-align: middle;\n",
       "    }\n",
       "\n",
       "    .dataframe tbody tr th {\n",
       "        vertical-align: top;\n",
       "    }\n",
       "\n",
       "    .dataframe thead th {\n",
       "        text-align: right;\n",
       "    }\n",
       "</style>\n",
       "<table border=\"1\" class=\"dataframe\">\n",
       "  <thead>\n",
       "    <tr style=\"text-align: right;\">\n",
       "      <th></th>\n",
       "      <th>crew</th>\n",
       "      <th>cast</th>\n",
       "    </tr>\n",
       "    <tr>\n",
       "      <th>id</th>\n",
       "      <th></th>\n",
       "      <th></th>\n",
       "    </tr>\n",
       "  </thead>\n",
       "  <tbody>\n",
       "    <tr>\n",
       "      <th>862</th>\n",
       "      <td>[{'credit_id': '52fe4284c3a36847f8024f49', 'de...</td>\n",
       "      <td>[{'cast_id': 14, 'character': 'Woody (voice)',...</td>\n",
       "    </tr>\n",
       "    <tr>\n",
       "      <th>8844</th>\n",
       "      <td>[{'credit_id': '52fe44bfc3a36847f80a7cd1', 'de...</td>\n",
       "      <td>[{'cast_id': 1, 'character': 'Alan Parrish', '...</td>\n",
       "    </tr>\n",
       "    <tr>\n",
       "      <th>15602</th>\n",
       "      <td>[{'credit_id': '52fe466a9251416c75077a89', 'de...</td>\n",
       "      <td>[{'cast_id': 2, 'character': 'Max Goldman', 'c...</td>\n",
       "    </tr>\n",
       "    <tr>\n",
       "      <th>31357</th>\n",
       "      <td>[{'credit_id': '52fe44779251416c91011acb', 'de...</td>\n",
       "      <td>[{'cast_id': 1, 'character': \"Savannah 'Vannah...</td>\n",
       "    </tr>\n",
       "    <tr>\n",
       "      <th>11862</th>\n",
       "      <td>[{'credit_id': '52fe44959251416c75039ed7', 'de...</td>\n",
       "      <td>[{'cast_id': 1, 'character': 'George Banks', '...</td>\n",
       "    </tr>\n",
       "  </tbody>\n",
       "</table>\n",
       "</div>"
      ],
      "text/plain": [
       "                                                    crew  \\\n",
       "id                                                         \n",
       "862    [{'credit_id': '52fe4284c3a36847f8024f49', 'de...   \n",
       "8844   [{'credit_id': '52fe44bfc3a36847f80a7cd1', 'de...   \n",
       "15602  [{'credit_id': '52fe466a9251416c75077a89', 'de...   \n",
       "31357  [{'credit_id': '52fe44779251416c91011acb', 'de...   \n",
       "11862  [{'credit_id': '52fe44959251416c75039ed7', 'de...   \n",
       "\n",
       "                                                    cast  \n",
       "id                                                        \n",
       "862    [{'cast_id': 14, 'character': 'Woody (voice)',...  \n",
       "8844   [{'cast_id': 1, 'character': 'Alan Parrish', '...  \n",
       "15602  [{'cast_id': 2, 'character': 'Max Goldman', 'c...  \n",
       "31357  [{'cast_id': 1, 'character': \"Savannah 'Vannah...  \n",
       "11862  [{'cast_id': 1, 'character': 'George Banks', '...  "
      ]
     },
     "execution_count": 206,
     "metadata": {},
     "output_type": "execute_result"
    }
   ],
   "source": [
    "cols = [\"crew\", \"cast\"]\n",
    "data_credits = data_credits[cols]\n",
    "data_credits.head()"
   ]
  },
  {
   "cell_type": "markdown",
   "metadata": {},
   "source": [
    "This table consist of the crew members and the cast members. It contains an array of JSONs with the information of each crew/cast member.\n",
    "\n",
    "At this point, we won't use the gender, name and other attributes in each JSON, but just the count of how many cast/crew members each movie has.\n",
    "\n",
    "<font size=4px>Now, lets look at how many null values exists in each column. First we will check the metadata of the movies.</font>"
   ]
  },
  {
   "cell_type": "code",
   "execution_count": 207,
   "metadata": {},
   "outputs": [
    {
     "data": {
      "text/plain": [
       "adult                        0\n",
       "belongs_to_collection    40972\n",
       "genres                       0\n",
       "original_language           11\n",
       "original_title               0\n",
       "budget                       0\n",
       "overview                   954\n",
       "popularity                   5\n",
       "production_companies         3\n",
       "production_countries         3\n",
       "release_date                87\n",
       "runtime                    263\n",
       "spoken_languages             6\n",
       "tagline                  25054\n",
       "vote_average                 6\n",
       "vote_count                   6\n",
       "revenue                      6\n",
       "dtype: int64"
      ]
     },
     "execution_count": 207,
     "metadata": {},
     "output_type": "execute_result"
    }
   ],
   "source": [
    "data_movies.isnull().sum()"
   ]
  },
  {
   "cell_type": "markdown",
   "metadata": {},
   "source": [
    "As you can see, Most of the movies dose not belong to any collection. That makes sense, because most movies are standalone. Some comes from a series of movies, like Toy Story, but most of them does not.\n",
    "\n",
    "It wont be a problem because this column will be numeric, 1 - belongs to any collection, 0 - does not belong.\n",
    "\n",
    "Now, let's look at the budget column. Even though it seems there are no movies with null budget value, a lot of movies have budget value of 0 - and in our case, it is very problematic. In the first phase, we will ignore those lines, meaning we will look only for the movies with budget higher than 0.\n",
    "\n",
    "This also happens in the revenue column, and we'll ignore them too. \n",
    "\n",
    "**Meaning, that at this point of the project we will only use movies that their budget & revenue is bigger than zero.**\n",
    "\n",
    "Other columns, like original language, run time, vote avarage and vote count will be filled (for now) with avarage of each feature.\n",
    "\n",
    "<font size=4px>Now, lets look at the credits Dataset.</font>"
   ]
  },
  {
   "cell_type": "code",
   "execution_count": 208,
   "metadata": {},
   "outputs": [
    {
     "data": {
      "text/plain": [
       "crew    0\n",
       "cast    0\n",
       "dtype: int64"
      ]
     },
     "execution_count": 208,
     "metadata": {},
     "output_type": "execute_result"
    }
   ],
   "source": [
    "data_credits.isnull().sum()"
   ]
  },
  {
   "cell_type": "markdown",
   "metadata": {},
   "source": [
    "You might think that all movies has inforamtion about their cast and crew, however this is incorrect.\n",
    "The crew and cast is represented in an array, so if the cast is empty, there is an empty array, [], so it is not recognized by Null. At this point, we will calculate avarage and insert it instead.\n",
    "\n",
    "### 2. Data Cleaning\n",
    "\n",
    "Let's start cleaning our data. We'll begin with the Metadata set.\n",
    "\n",
    "1. First, we need to change the columnes to contain non-numeric values."
   ]
  },
  {
   "cell_type": "code",
   "execution_count": 209,
   "metadata": {},
   "outputs": [],
   "source": [
    "data_movies['budget'] = pd.to_numeric(data_movies['budget'], errors='coerce')\n",
    "data_movies['revenue'] = pd.to_numeric(data_movies['revenue'], errors='coerce')"
   ]
  },
  {
   "cell_type": "markdown",
   "metadata": {},
   "source": [
    "2. Second, we will remove all the lines without **Budget** or without **Revenue**.<br> This columns are most important, because budget usually has high correlation with the revenue, so as we said we will (for now) examine mocies with positive budget and revenue."
   ]
  },
  {
   "cell_type": "code",
   "execution_count": 210,
   "metadata": {},
   "outputs": [],
   "source": [
    "data_movies_filtered = data_movies[(data_movies['budget'] > 0) & (data_movies['revenue'] > 0)].dropna(subset=['budget', 'revenue'])"
   ]
  },
  {
   "cell_type": "markdown",
   "metadata": {},
   "source": [
    "3. We'll modify the adult column to be a numerrical 0/1 instead of Boolean. "
   ]
  },
  {
   "cell_type": "code",
   "execution_count": 211,
   "metadata": {},
   "outputs": [
    {
     "name": "stdout",
     "output_type": "stream",
     "text": [
      "Number of 0s: 5381\n",
      "Number of 1s: 0\n"
     ]
    }
   ],
   "source": [
    "data_movies_filtered['adult'] = data_movies_filtered['adult'].map({'True': 1, 'False': 0})\n",
    "\n",
    "# Checking how many lines we have from each type\n",
    "counts = data_movies_filtered[\"adult\"].value_counts()\n",
    "\n",
    "print(\"Number of 0s:\", counts.get(0, 0))\n",
    "print(\"Number of 1s:\", counts.get(1, 0))"
   ]
  },
  {
   "cell_type": "markdown",
   "metadata": {},
   "source": [
    "Unfortunately, we see that non of the lines (after the clean) has value of True. so at this point, we wont use this feature, and we will use it in the next part, after we deal with the budget and revenue problem. So, let's remove those columns from our data."
   ]
  },
  {
   "cell_type": "code",
   "execution_count": 212,
   "metadata": {},
   "outputs": [],
   "source": [
    "new_cols = [\"original_title\", \"belongs_to_collection\", \"genres\",\"original_language\", \"budget\",\n",
    "        \"popularity\", \"production_companies\", \"production_countries\", \"release_date\", \"runtime\",\n",
    "        \"spoken_languages\", \"vote_average\", \"vote_count\", \"revenue\"]\n",
    "data_movies_filtered = data_movies_filtered[new_cols]"
   ]
  },
  {
   "cell_type": "markdown",
   "metadata": {},
   "source": [
    "4. Transferring belong_to_collection into Boolean: 1 - belongs to some collection, 0 - does not."
   ]
  },
  {
   "cell_type": "code",
   "execution_count": 213,
   "metadata": {},
   "outputs": [
    {
     "name": "stdout",
     "output_type": "stream",
     "text": [
      "Number of 0s: 4157\n",
      "Number of 1s: 1224\n"
     ]
    }
   ],
   "source": [
    "data_movies_filtered['belongs_to_collection'] = data_movies_filtered['belongs_to_collection'].notnull().astype(int)\n",
    "counts = data_movies_filtered[\"belongs_to_collection\"].value_counts()\n",
    "\n",
    "print(\"Number of 0s:\", counts.get(0, 0))\n",
    "print(\"Number of 1s:\", counts.get(1, 0))"
   ]
  },
  {
   "cell_type": "markdown",
   "metadata": {},
   "source": [
    "Not as before, here we have better information about movies coming from other collections, so we can work with this data.\n",
    "\n",
    "4. Transforming the language of the movie: 1 - if the original language is english, 0 - otherwise."
   ]
  },
  {
   "cell_type": "code",
   "execution_count": 214,
   "metadata": {},
   "outputs": [],
   "source": [
    "data_movies_filtered['original_language'] = data_movies_filtered['original_language'].apply(lambda x: 1 if x == 'en' else 0)"
   ]
  },
  {
   "cell_type": "markdown",
   "metadata": {},
   "source": [
    "5. Now, we'll take care of the Genre column. We want to turn it into a **Multi-Hot Vector**, containing each movies genres. Lets implement it. The vector will be implemented as different column for each genre."
   ]
  },
  {
   "cell_type": "code",
   "execution_count": 215,
   "metadata": {},
   "outputs": [],
   "source": [
    "data_movies_filtered['genres'] = data_movies_filtered['genres'].apply(\n",
    "    lambda x: ast.literal_eval(x) if pd.notnull(x) and isinstance(x, str) else []\n",
    ")\n",
    "\n",
    "unique_genres = set()\n",
    "for genres in data_movies_filtered['genres']:\n",
    "    unique_genres.update(genre['name'] for genre in genres)\n",
    "\n",
    "for genre in unique_genres:\n",
    "    data_movies_filtered[genre] = data_movies_filtered['genres'].apply(\n",
    "        lambda x: 1 if any(d['name'] == genre for d in x) else 0\n",
    "    )\n",
    "\n",
    "data_movies_filtered = data_movies_filtered.drop(columns=['genres'])"
   ]
  },
  {
   "cell_type": "markdown",
   "metadata": {},
   "source": [
    "Now, let's look at the table and it's layout now."
   ]
  },
  {
   "cell_type": "code",
   "execution_count": 216,
   "metadata": {},
   "outputs": [
    {
     "data": {
      "text/html": [
       "<div>\n",
       "<style scoped>\n",
       "    .dataframe tbody tr th:only-of-type {\n",
       "        vertical-align: middle;\n",
       "    }\n",
       "\n",
       "    .dataframe tbody tr th {\n",
       "        vertical-align: top;\n",
       "    }\n",
       "\n",
       "    .dataframe thead th {\n",
       "        text-align: right;\n",
       "    }\n",
       "</style>\n",
       "<table border=\"1\" class=\"dataframe\">\n",
       "  <thead>\n",
       "    <tr style=\"text-align: right;\">\n",
       "      <th></th>\n",
       "      <th>original_title</th>\n",
       "      <th>belongs_to_collection</th>\n",
       "      <th>original_language</th>\n",
       "      <th>budget</th>\n",
       "      <th>popularity</th>\n",
       "      <th>production_companies</th>\n",
       "      <th>production_countries</th>\n",
       "      <th>release_date</th>\n",
       "      <th>runtime</th>\n",
       "      <th>spoken_languages</th>\n",
       "      <th>...</th>\n",
       "      <th>Drama</th>\n",
       "      <th>Romance</th>\n",
       "      <th>Foreign</th>\n",
       "      <th>Family</th>\n",
       "      <th>War</th>\n",
       "      <th>Western</th>\n",
       "      <th>TV Movie</th>\n",
       "      <th>Action</th>\n",
       "      <th>Thriller</th>\n",
       "      <th>Horror</th>\n",
       "    </tr>\n",
       "    <tr>\n",
       "      <th>id</th>\n",
       "      <th></th>\n",
       "      <th></th>\n",
       "      <th></th>\n",
       "      <th></th>\n",
       "      <th></th>\n",
       "      <th></th>\n",
       "      <th></th>\n",
       "      <th></th>\n",
       "      <th></th>\n",
       "      <th></th>\n",
       "      <th></th>\n",
       "      <th></th>\n",
       "      <th></th>\n",
       "      <th></th>\n",
       "      <th></th>\n",
       "      <th></th>\n",
       "      <th></th>\n",
       "      <th></th>\n",
       "      <th></th>\n",
       "      <th></th>\n",
       "      <th></th>\n",
       "    </tr>\n",
       "  </thead>\n",
       "  <tbody>\n",
       "    <tr>\n",
       "      <th>862</th>\n",
       "      <td>Toy Story</td>\n",
       "      <td>1</td>\n",
       "      <td>1</td>\n",
       "      <td>30000000.0</td>\n",
       "      <td>21.946943</td>\n",
       "      <td>[{'name': 'Pixar Animation Studios', 'id': 3}]</td>\n",
       "      <td>[{'iso_3166_1': 'US', 'name': 'United States o...</td>\n",
       "      <td>1995-10-30</td>\n",
       "      <td>81.0</td>\n",
       "      <td>[{'iso_639_1': 'en', 'name': 'English'}]</td>\n",
       "      <td>...</td>\n",
       "      <td>0</td>\n",
       "      <td>0</td>\n",
       "      <td>0</td>\n",
       "      <td>1</td>\n",
       "      <td>0</td>\n",
       "      <td>0</td>\n",
       "      <td>0</td>\n",
       "      <td>0</td>\n",
       "      <td>0</td>\n",
       "      <td>0</td>\n",
       "    </tr>\n",
       "    <tr>\n",
       "      <th>8844</th>\n",
       "      <td>Jumanji</td>\n",
       "      <td>0</td>\n",
       "      <td>1</td>\n",
       "      <td>65000000.0</td>\n",
       "      <td>17.015539</td>\n",
       "      <td>[{'name': 'TriStar Pictures', 'id': 559}, {'na...</td>\n",
       "      <td>[{'iso_3166_1': 'US', 'name': 'United States o...</td>\n",
       "      <td>1995-12-15</td>\n",
       "      <td>104.0</td>\n",
       "      <td>[{'iso_639_1': 'en', 'name': 'English'}, {'iso...</td>\n",
       "      <td>...</td>\n",
       "      <td>0</td>\n",
       "      <td>0</td>\n",
       "      <td>0</td>\n",
       "      <td>1</td>\n",
       "      <td>0</td>\n",
       "      <td>0</td>\n",
       "      <td>0</td>\n",
       "      <td>0</td>\n",
       "      <td>0</td>\n",
       "      <td>0</td>\n",
       "    </tr>\n",
       "    <tr>\n",
       "      <th>31357</th>\n",
       "      <td>Waiting to Exhale</td>\n",
       "      <td>0</td>\n",
       "      <td>1</td>\n",
       "      <td>16000000.0</td>\n",
       "      <td>3.859495</td>\n",
       "      <td>[{'name': 'Twentieth Century Fox Film Corporat...</td>\n",
       "      <td>[{'iso_3166_1': 'US', 'name': 'United States o...</td>\n",
       "      <td>1995-12-22</td>\n",
       "      <td>127.0</td>\n",
       "      <td>[{'iso_639_1': 'en', 'name': 'English'}]</td>\n",
       "      <td>...</td>\n",
       "      <td>1</td>\n",
       "      <td>1</td>\n",
       "      <td>0</td>\n",
       "      <td>0</td>\n",
       "      <td>0</td>\n",
       "      <td>0</td>\n",
       "      <td>0</td>\n",
       "      <td>0</td>\n",
       "      <td>0</td>\n",
       "      <td>0</td>\n",
       "    </tr>\n",
       "    <tr>\n",
       "      <th>949</th>\n",
       "      <td>Heat</td>\n",
       "      <td>0</td>\n",
       "      <td>1</td>\n",
       "      <td>60000000.0</td>\n",
       "      <td>17.924927</td>\n",
       "      <td>[{'name': 'Regency Enterprises', 'id': 508}, {...</td>\n",
       "      <td>[{'iso_3166_1': 'US', 'name': 'United States o...</td>\n",
       "      <td>1995-12-15</td>\n",
       "      <td>170.0</td>\n",
       "      <td>[{'iso_639_1': 'en', 'name': 'English'}, {'iso...</td>\n",
       "      <td>...</td>\n",
       "      <td>1</td>\n",
       "      <td>0</td>\n",
       "      <td>0</td>\n",
       "      <td>0</td>\n",
       "      <td>0</td>\n",
       "      <td>0</td>\n",
       "      <td>0</td>\n",
       "      <td>1</td>\n",
       "      <td>1</td>\n",
       "      <td>0</td>\n",
       "    </tr>\n",
       "    <tr>\n",
       "      <th>9091</th>\n",
       "      <td>Sudden Death</td>\n",
       "      <td>0</td>\n",
       "      <td>1</td>\n",
       "      <td>35000000.0</td>\n",
       "      <td>5.23158</td>\n",
       "      <td>[{'name': 'Universal Pictures', 'id': 33}, {'n...</td>\n",
       "      <td>[{'iso_3166_1': 'US', 'name': 'United States o...</td>\n",
       "      <td>1995-12-22</td>\n",
       "      <td>106.0</td>\n",
       "      <td>[{'iso_639_1': 'en', 'name': 'English'}]</td>\n",
       "      <td>...</td>\n",
       "      <td>0</td>\n",
       "      <td>0</td>\n",
       "      <td>0</td>\n",
       "      <td>0</td>\n",
       "      <td>0</td>\n",
       "      <td>0</td>\n",
       "      <td>0</td>\n",
       "      <td>1</td>\n",
       "      <td>1</td>\n",
       "      <td>0</td>\n",
       "    </tr>\n",
       "  </tbody>\n",
       "</table>\n",
       "<p>5 rows × 33 columns</p>\n",
       "</div>"
      ],
      "text/plain": [
       "          original_title  belongs_to_collection  original_language  \\\n",
       "id                                                                   \n",
       "862            Toy Story                      1                  1   \n",
       "8844             Jumanji                      0                  1   \n",
       "31357  Waiting to Exhale                      0                  1   \n",
       "949                 Heat                      0                  1   \n",
       "9091        Sudden Death                      0                  1   \n",
       "\n",
       "           budget popularity  \\\n",
       "id                             \n",
       "862    30000000.0  21.946943   \n",
       "8844   65000000.0  17.015539   \n",
       "31357  16000000.0   3.859495   \n",
       "949    60000000.0  17.924927   \n",
       "9091   35000000.0    5.23158   \n",
       "\n",
       "                                    production_companies  \\\n",
       "id                                                         \n",
       "862       [{'name': 'Pixar Animation Studios', 'id': 3}]   \n",
       "8844   [{'name': 'TriStar Pictures', 'id': 559}, {'na...   \n",
       "31357  [{'name': 'Twentieth Century Fox Film Corporat...   \n",
       "949    [{'name': 'Regency Enterprises', 'id': 508}, {...   \n",
       "9091   [{'name': 'Universal Pictures', 'id': 33}, {'n...   \n",
       "\n",
       "                                    production_countries release_date  \\\n",
       "id                                                                      \n",
       "862    [{'iso_3166_1': 'US', 'name': 'United States o...   1995-10-30   \n",
       "8844   [{'iso_3166_1': 'US', 'name': 'United States o...   1995-12-15   \n",
       "31357  [{'iso_3166_1': 'US', 'name': 'United States o...   1995-12-22   \n",
       "949    [{'iso_3166_1': 'US', 'name': 'United States o...   1995-12-15   \n",
       "9091   [{'iso_3166_1': 'US', 'name': 'United States o...   1995-12-22   \n",
       "\n",
       "       runtime                                   spoken_languages  ...  Drama  \\\n",
       "id                                                                 ...          \n",
       "862       81.0           [{'iso_639_1': 'en', 'name': 'English'}]  ...      0   \n",
       "8844     104.0  [{'iso_639_1': 'en', 'name': 'English'}, {'iso...  ...      0   \n",
       "31357    127.0           [{'iso_639_1': 'en', 'name': 'English'}]  ...      1   \n",
       "949      170.0  [{'iso_639_1': 'en', 'name': 'English'}, {'iso...  ...      1   \n",
       "9091     106.0           [{'iso_639_1': 'en', 'name': 'English'}]  ...      0   \n",
       "\n",
       "       Romance  Foreign  Family  War  Western  TV Movie  Action  Thriller  \\\n",
       "id                                                                          \n",
       "862          0        0       1    0        0         0       0         0   \n",
       "8844         0        0       1    0        0         0       0         0   \n",
       "31357        1        0       0    0        0         0       0         0   \n",
       "949          0        0       0    0        0         0       1         1   \n",
       "9091         0        0       0    0        0         0       1         1   \n",
       "\n",
       "       Horror  \n",
       "id             \n",
       "862         0  \n",
       "8844        0  \n",
       "31357       0  \n",
       "949         0  \n",
       "9091        0  \n",
       "\n",
       "[5 rows x 33 columns]"
      ]
     },
     "execution_count": 216,
     "metadata": {},
     "output_type": "execute_result"
    }
   ],
   "source": [
    "data_movies_filtered.head()"
   ]
  },
  {
   "cell_type": "markdown",
   "metadata": {},
   "source": [
    "As you might see, we added a column to each genre, containing: 1 - if the movie is in the genre, 0 - if not.<br><br>\n",
    "5. The full date will become only the Year.<br>\n",
    "6. The spoken languages will become the number of Spoken Languages in the movie. The minimum will be 1 (if the box is empty, we will fill in with one)."
   ]
  },
  {
   "cell_type": "code",
   "execution_count": null,
   "metadata": {},
   "outputs": [],
   "source": []
  }
 ],
 "metadata": {
  "colab": {
   "include_colab_link": true,
   "provenance": []
  },
  "kernelspec": {
   "display_name": "Python 3",
   "name": "python3"
  },
  "language_info": {
   "codemirror_mode": {
    "name": "ipython",
    "version": 3
   },
   "file_extension": ".py",
   "mimetype": "text/x-python",
   "name": "python",
   "nbconvert_exporter": "python",
   "pygments_lexer": "ipython3",
   "version": "3.12.1"
  }
 },
 "nbformat": 4,
 "nbformat_minor": 0
}

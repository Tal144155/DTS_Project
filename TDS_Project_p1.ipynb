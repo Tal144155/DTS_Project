{
 "cells": [
  {
   "cell_type": "markdown",
   "metadata": {
    "colab_type": "text",
    "id": "view-in-github"
   },
   "source": [
    "<a href=\"https://colab.research.google.com/github/Tal144155/DTS_Project/blob/main/TDS_Project_p1.ipynb\" target=\"_parent\"><img src=\"https://colab.research.google.com/assets/colab-badge.svg\" alt=\"Open In Colab\"/></a>"
   ]
  },
  {
   "cell_type": "markdown",
   "metadata": {
    "id": "3o9quY7wOSoY"
   },
   "source": [
    "# Tabular Data Science - Part #1\n",
    "### Group Members: \n",
    "* Tal Ariel Ziv\n",
    "* Arnon Lutsky"
   ]
  },
  {
   "cell_type": "markdown",
   "metadata": {
    "id": "EwiIVc94PnnJ"
   },
   "source": [
    "#### Introduction\n",
    "In this project, we aim to explore the fascinating intersection of movies and data science by building a predictive model for box office revenue. Using a dataset containing various attributes of movies, such as genre, cast, budget, runtime, release date, and more, we will analyze patterns and trends to determine what factors contribute to a film's financial success.\n"
   ]
  },
  {
   "cell_type": "markdown",
   "metadata": {},
   "source": [
    "### 1. Dataset Selection:\n",
    "\n",
    "#### **Overview of the Movies Dataset**\n",
    "We chose The Movies Dataset because it is both fascinating and rich in features, making it ideal for exploring the dynamics of the movie industry. Predicting movie revenue based on details like budget, genres, cast, and crew is an engaging real-world challenge that combines creativity with analytical problem-solving.\n",
    "\n",
    "<font size=4px> **About the Dataset:**</font>\n",
    "* The Dataset contains MetaData of about 45,000 movies.\n",
    "* The data also contains a table with the crew and cas members (names, gender, etc).\n",
    "* There are extra 5 tables, including: links, rating (reviews from viewers), and keywords.\n",
    "\n",
    "**Movies MetaData set:**\n",
    "* Number of Records: 45,467.\n",
    "* number of Features: 24 (not all relevant, will be explain later).\n",
    "* Features names and types:<br>\n",
    "    (i) <u>Numeric:</u> Adults (yes/no), Belongs_To_Collenction (yes/no), Budget, Original_Language (en/other), Popularity, Revenue, Runtime, Release_Date, Vote_Avarage, Vote_Count.<br>\n",
    "    (ii) <u>Categorical:</u> Genres, Production_Companys, Production_Countries, Spoken_Languages.<br>\n",
    "    (iii) <u>Other:</u> Title, Overview.<br>\n",
    "\n",
    "**Credits set:**\n",
    "* Number of Records: 45,505.\n",
    "* number of Features: 3.\n",
    "* Features names and types:<br>\n",
    "    (i) Crew Members: Contains information about the crew members, their job, names, gender, etc.<br>\n",
    "    (ii) Cast Members: Contians information about the cast, actross, their role in the movie and more.<br>\n",
    "    <br>\n",
    "Both of those Features can be numeric (for example, counting the number of crew and cast members), but they can also be used to gather more inforamtion about the movie (if a famous actress plays in the movie).\n",
    "\n",
    "\n",
    "\n",
    "##### **Reference**\n",
    "> **Dataset**: Press on this [link](https://www.kaggle.com/datasets/rounakbanik/the-movies-dataset) to view the data set in Kaggle.\n"
   ]
  },
  {
   "cell_type": "markdown",
   "metadata": {},
   "source": [
    "Now, lets start analyzing the data, and solve some problems that will arise."
   ]
  },
  {
   "cell_type": "markdown",
   "metadata": {},
   "source": [
    "### Imports"
   ]
  },
  {
   "cell_type": "code",
   "execution_count": 16,
   "metadata": {
    "id": "_lTDiV-NNiXy"
   },
   "outputs": [],
   "source": [
    "#data processing\n",
    "import pandas as pd\n",
    "import numpy as np\n",
    "\n",
    "#data visualizations\n",
    "import seaborn as sns\n",
    "import matplotlib.pyplot as plt\n",
    "%matplotlib inline\n",
    "\n",
    "#Machine learning library\n",
    "import sklearn\n",
    "\n",
    "import warnings\n",
    "warnings.filterwarnings(\"ignore\")"
   ]
  },
  {
   "cell_type": "markdown",
   "metadata": {},
   "source": [
    "Now, lets upload the data end start exploring it."
   ]
  },
  {
   "cell_type": "code",
   "execution_count": 17,
   "metadata": {},
   "outputs": [],
   "source": [
    "data_movies = pd.read_csv(\"Data/movies_metadata.csv\",index_col='id')\n",
    "data_credits = pd.read_csv(\"Data/credits.csv\",index_col='id')"
   ]
  },
  {
   "cell_type": "code",
   "execution_count": null,
   "metadata": {},
   "outputs": [],
   "source": [
    "cols = [\"id\",\"adult\",\"belongs_to_collection\",\"genres\",\"original_language\",\"original_title\",\"budget\",\"original_language\",\n",
    "        \"overview\",\"popularity\", \"production_companies\", \"production_countries\", \"release_date\", \"runtime\", \"spoken_languages\",\n",
    "        \"vote_average\", \"vote_count\", \"revenue\"]"
   ]
  }
 ],
 "metadata": {
  "colab": {
   "include_colab_link": true,
   "provenance": []
  },
  "kernelspec": {
   "display_name": "Python 3",
   "name": "python3"
  },
  "language_info": {
   "codemirror_mode": {
    "name": "ipython",
    "version": 3
   },
   "file_extension": ".py",
   "mimetype": "text/x-python",
   "name": "python",
   "nbconvert_exporter": "python",
   "pygments_lexer": "ipython3",
   "version": "3.12.3"
  }
 },
 "nbformat": 4,
 "nbformat_minor": 0
}
